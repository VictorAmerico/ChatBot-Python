{
 "cells": [
  {
   "cell_type": "raw",
   "id": "14c1579c",
   "metadata": {
    "slideshow": {
     "slide_type": "fragment"
    }
   },
   "source": [
    "ChatBot Ajudante "
   ]
  },
  {
   "cell_type": "code",
   "execution_count": 1,
   "id": "0c11fdb9",
   "metadata": {},
   "outputs": [
    {
     "name": "stdout",
     "output_type": "stream",
     "text": [
      "✔ Download and installation successful\n",
      "You can now load the package via spacy.load('en_core_web_sm')\n"
     ]
    }
   ],
   "source": [
    "from chatterbot import ChatBot\n",
    "from chatterbot.trainers import ListTrainer\n",
    "#Solução Do Problema de comunicação\n",
    "\n",
    "from spacy.cli import download \n",
    "download(\"en_core_web_sm\")\n",
    "\n",
    "class ENGSM:\n",
    "    ISO_639_1 = 'en_core_web_sm'\n",
    "\n",
    "chatbot = ChatBot(\"BotAjudante\", tagger_language=ENGSM)\n"
   ]
  },
  {
   "cell_type": "code",
   "execution_count": 2,
   "id": "4e2f01da",
   "metadata": {
    "scrolled": true
   },
   "outputs": [
    {
     "name": "stdout",
     "output_type": "stream",
     "text": [
      "List Trainer: [####################] 100%\n",
      "List Trainer: [####################] 100%\n",
      "List Trainer: [####################] 100%\n",
      "List Trainer: [####################] 100%\n"
     ]
    }
   ],
   "source": [
    "\n",
    "Saudacoes = [\"Oi, bom dia!\", \"Opa, beleza?\",\"Eu queria uma ajuda\", \"Pode falar\",]\n",
    "\n",
    "Login = [ \"Como eu acesso os computadores da ARGO?\",\n",
    "        \"Seguinte, você precisa colocar a sua matricula no login e na senha colocar a sua data de nascimento\",]\n",
    "\n",
    "Locais = [\"Como eu chego nos laboratorios da ARGO?\", \n",
    "          \"Os laboratorios ficam no segundo e no terceiro andar, você sabe qual é a sala que precisa ir?\",\n",
    "          \"Eu acho que na sala 12\",   \n",
    "          \"Então, suba até o terceiro andar, é lá que fica\"]\n",
    "\n",
    "Resto = [ \"Beleza amigo, obrigado!\", \"Tem alguma outra duvida?\", \"Tenho sim!\",\"Tenho outra duvida\", \"Pode falar\",\n",
    "        \"Relaxa, qualquer duvida é só chamar\"]\n",
    "trainer = ListTrainer(chatbot)\n",
    "trainer.train(Saudacoes)\n",
    "trainer.train(Login)\n",
    "trainer.train(Locais)\n",
    "trainer.train(Resto)"
   ]
  },
  {
   "cell_type": "code",
   "execution_count": null,
   "id": "33ccc9ba",
   "metadata": {},
   "outputs": [
    {
     "name": "stdout",
     "output_type": "stream",
     "text": [
      "Você: Oi, bom dia!\n",
      "Aluno EC4: Opa, beleza?\n",
      "Você: Ew queria uma ajud\n",
      "Aluno EC4: Pode falar\n",
      "Você: Como eu acesso os computadores da ARGO?\n",
      "Aluno EC4: Seguinte, você precisa colocar a sua matricula no login e na senha colocar a sua data de nascimento\n",
      "Você: Beleza amigo, obrigado!\n",
      "Aluno EC4: Relaxa, qualquer duvida é só chamar\n",
      "Você: Tenho outra duvida\n",
      "Aluno EC4: Pode falar\n",
      "Você: Como eu chego nos laboratorios da ARGO?\n",
      "Aluno EC4: Os laboratorios ficam no segundo e no terceiro andar, você sabe qual é a sala que precisa ir?\n",
      "Você: eu cho que no 12\n",
      "Aluno EC4: Então, suba até o terceiro andar, é lá que fica\n",
      "Você: Beleza amigo, obrigado!\n",
      "Aluno EC4: Relaxa, qualquer duvida é só chamar\n"
     ]
    }
   ],
   "source": [
    "while True:\n",
    " \n",
    "    resp = chatbot.get_response(input(\"Você: \"))\n",
    "    print(\"Aluno EC4:\", resp)\n",
    "\n"
   ]
  },
  {
   "cell_type": "code",
   "execution_count": null,
   "id": "1044382b",
   "metadata": {},
   "outputs": [],
   "source": []
  }
 ],
 "metadata": {
  "kernelspec": {
   "display_name": "Python 3",
   "language": "python",
   "name": "python3"
  },
  "language_info": {
   "codemirror_mode": {
    "name": "ipython",
    "version": 3
   },
   "file_extension": ".py",
   "mimetype": "text/x-python",
   "name": "python",
   "nbconvert_exporter": "python",
   "pygments_lexer": "ipython3",
   "version": "3.8.8"
  }
 },
 "nbformat": 4,
 "nbformat_minor": 5
}
